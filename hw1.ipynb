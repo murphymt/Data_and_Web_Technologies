{
 "cells": [
  {
   "cell_type": "markdown",
   "metadata": {},
   "source": [
    "# STA 141B: Homework 1\n",
    "Winter 2018"
   ]
  },
  {
   "cell_type": "markdown",
   "metadata": {},
   "source": [
    "## Information\n",
    "\n",
    "After the colons (in the same line) please write just your first name, last name, and the 9 digit student ID number below.\n",
    "\n",
    "First Name: Timothy\n",
    "\n",
    "Last Name: Murphy\n",
    "\n",
    "Student ID: 912614348"
   ]
  },
  {
   "cell_type": "markdown",
   "metadata": {},
   "source": [
    "## Instructions\n",
    "\n",
    "We use a script that extracts your answers by looking for cells in between the cells containing the exercise statements.  So you \n",
    "\n",
    "- MUST add cells in between the exercise statements and add answers within them and\n",
    "- MUST NOT modify the existing cells, particularly not the problem statement\n",
    "\n",
    "To make markdown, please switch the cell type to markdown (from code) - you can hit 'm' when you are in command mode - and use the markdown language.  For a brief tutorial see: https://daringfireball.net/projects/markdown/syntax\n"
   ]
  },
  {
   "cell_type": "markdown",
   "metadata": {
    "name": "fill1"
   },
   "source": [
    "## Part 1: The Doomsday Algorithm\n",
    "\n",
    "The Doomsday algorithm, devised by mathematician J. H. Conway, computes the day of the week any given date fell on. The algorithm is designed to be simple enough to memorize and use for mental calculation.\n",
    "\n",
    "__Example.__ With the algorithm, we can compute that July 4, 1776 (the day the United States declared independence from Great Britain) was a Thursday.\n",
    "\n",
    "The algorithm is based on the fact that for any year, several dates always fall on the same day of the week, called the <em style=\"color:#F00\">doomsday</em> for the year. These dates include 4/4, 6/6, 8/8, 10/10, and 12/12.\n",
    "\n",
    "__Example.__ The doomsday for 2016 is Monday, so in 2016 the dates above all fell on Mondays. The doomsday for 2017 is Tuesday, so in 2017 the dates above will all fall on Tuesdays.\n",
    "\n",
    "The doomsday algorithm has three major steps:\n",
    "\n",
    "1. Compute the anchor day for the target century.\n",
    "2. Compute the doomsday for the target year based on the anchor day.\n",
    "3. Determine the day of week for the target date by counting the number of days to the nearest doomsday.\n",
    "\n",
    "Each step is explained in detail below."
   ]
  },
  {
   "cell_type": "markdown",
   "metadata": {
    "name": "ex1.1"
   },
   "source": [
    "### The Anchor Day\n",
    "\n",
    "The doomsday for the first year in a century is called the <em style=\"color:#F00\">anchor day</em> for that century. The anchor day is needed to compute the doomsday for any other year in that century. The anchor day for a century $c$ can be computed with the formula:\n",
    "$$\n",
    "a = \\bigl( 5 (c \\bmod 4) + 2 \\bigr) \\bmod 7\n",
    "$$\n",
    "The result $a$ corresponds to a day of the week, starting with $0$ for Sunday and ending with $6$ for Saturday.\n",
    "\n",
    "__Note.__ The modulo operation $(x \\bmod y)$ finds the remainder after dividing $x$ by $y$. For instance, $12 \\bmod 3 = 0$ since the remainder after dividing $12$ by $3$ is $0$. Similarly, $11 \\bmod 7 = 4$, since the remainder after dividing $11$ by $7$ is $4$.\n",
    "\n",
    "__Example.__ Suppose the target year is 1954, so the century is $c = 19$. Plugging this into the formula gives\n",
    "$$a = \\bigl( 5 (19 \\bmod 4) + 2 \\bigr) \\bmod 7 = \\bigl( 5(3) + 2 \\bigr) \\bmod 7 = 3.$$\n",
    "In other words, the anchor day for 1900-1999 is Wednesday, which is also the doomsday for 1900.\n",
    "\n",
    "__Exercise 1.1.__ Write a function that accepts a year as input and computes the anchor day for that year's century. The modulo operator `%` and functions in the `math` module may be useful. Document your function with a docstring and test your function for a few different years.  Do this in a new cell below this one."
   ]
  },
  {
   "cell_type": "code",
   "execution_count": 2,
   "metadata": {},
   "outputs": [
    {
     "name": "stdout",
     "output_type": "stream",
     "text": [
      "Please enter a year (yyyy):1995\n",
      "The anchor day is: 3\n"
     ]
    }
   ],
   "source": [
    "def century_anchor_day(year):\n",
    "    \"\"\"\n",
    "    This function accepts a year as input\n",
    "    and computes the anchor day for that year's century.\n",
    "    With the output corresponding to the following days:\n",
    "    0 - Sunday, 1 - Monday, 2 - Tuesday, 3 - Wendesday,\n",
    "    4 - Thursday, 5 - Friday, 6 - Saturday\n",
    "    \"\"\"\n",
    "\n",
    "    # anchor day for the given century\n",
    "    century = int(str(year)[:2])\n",
    "    a = (5 * (century % 4) + 2) % 7\n",
    "    return a\n",
    "\n",
    "\n",
    "# INPUT YEAR HERE\n",
    "anchor_day1 = century_anchor_day(int(input(\"Please enter a year (yyyy):\")))\n",
    "print(\"The anchor day is:\", anchor_day1)"
   ]
  },
  {
   "cell_type": "markdown",
   "metadata": {
    "name": "ex1.2"
   },
   "source": [
    "### The Doomsday\n",
    "\n",
    "Once the anchor day is known, let $y$ be the last two digits of the target year. Then the doomsday for the target year can be computed with the formula:\n",
    "$$d = \\left(y + \\left\\lfloor\\frac{y}{4}\\right\\rfloor + a\\right) \\bmod 7$$\n",
    "The result $d$ corresponds to a day of the week.\n",
    "\n",
    "__Note.__ The floor operation $\\lfloor x \\rfloor$ rounds $x$ down to the nearest integer. For instance, $\\lfloor 3.1 \\rfloor = 3$ and $\\lfloor 3.8 \\rfloor = 3$.\n",
    "\n",
    "__Example.__ Again suppose the target year is 1954. Then the anchor day is $a = 3$, and $y = 54$, so the formula gives\n",
    "$$\n",
    "d = \\left(54 + \\left\\lfloor\\frac{54}{4}\\right\\rfloor + 3\\right) \\bmod 7 = (54 + 13 + 3) \\bmod 7 = 0.\n",
    "$$\n",
    "Thus the doomsday for 1954 is Sunday.\n",
    "\n",
    "__Exercise 1.2.__ Write a function that accepts a year as input and computes the doomsday for that year. Your function may need to call the function you wrote in exercise 1.1. Make sure to document and test your function."
   ]
  },
  {
   "cell_type": "code",
   "execution_count": 3,
   "metadata": {},
   "outputs": [
    {
     "name": "stdout",
     "output_type": "stream",
     "text": [
      "Please enter a year (yyyy):1995\n",
      "The dooms day is: 2\n"
     ]
    }
   ],
   "source": [
    "import math\n",
    "def doomsday_target_year(year):\n",
    "    \"\"\"\n",
    "    This function accepts a year as input\n",
    "    and computes the doomsday for that year.\n",
    "    With the output corresponding to the following days:\n",
    "    0 - Sunday, 1 - Monday, 2 - Tuesday, 3 - Wendesday,\n",
    "    4 - Thursday, 5 - Friday, 6 - Saturday\n",
    "    \"\"\"\n",
    "\n",
    "    anchor_day2 = century_anchor_day(year)\n",
    "    target_year = int(str(year)[-2:])\n",
    "\n",
    "    # doomsday for target year\n",
    "    dday = math.floor((target_year + (target_year / 4) + anchor_day2) % 7)\n",
    "    return dday\n",
    "\n",
    "\n",
    "# INPUT YEAR HERE\n",
    "dooms_day1 = doomsday_target_year(int(input(\"Please enter a year (yyyy):\")))\n",
    "print(\"The dooms day is:\",dooms_day1)"
   ]
  },
  {
   "cell_type": "markdown",
   "metadata": {
    "name": "ex1.3"
   },
   "source": [
    "### The Day of Week\n",
    "\n",
    "The final step in the Doomsday algorithm is to count the number of days between the target date and a nearby doomsday, modulo 7. This gives the day of the week.\n",
    "\n",
    "Every month has at least one doomsday:\n",
    "* (regular years) 1/10, 2/28\n",
    "* (leap years) 1/11, 2/29\n",
    "* 3/21, 4/4, 5/9, 6/6, 7/11, 8/8, 9/5, 10/10, 11/7, 12/12\n",
    "\n",
    "__Example.__ Suppose we want to find the day of the week for 7/21/1954. The doomsday for 1954 is Sunday, and a nearby doomsday is 7/11. There are 10 days in July between 7/11 and 7/21. Since $10 \\bmod 7 = 3$, the date 7/21/1954 falls 3 days after a Sunday, on a Wednesday.\n",
    "\n",
    "__Exercise 1.3.__ Write a function to determine the day of the week for a given day, month, and year. Be careful of leap years! Your function should return a string such as \"Thursday\" rather than a number. As usual, document and test your code."
   ]
  },
  {
   "cell_type": "code",
   "execution_count": 4,
   "metadata": {},
   "outputs": [
    {
     "name": "stdout",
     "output_type": "stream",
     "text": [
      "Please enter a month in the following format (mm):02\n",
      "Please enter a day in the following format (dd):19\n",
      "Please enter a year in the following format (yyyy):1995\n",
      "Sunday\n"
     ]
    }
   ],
   "source": [
    "def day_of_the_week(t_month, t_day, t_year):\n",
    "    \"\"\"\n",
    "    This function to determine the day of\n",
    "    the week for a given day, month, and year.\n",
    "    \"\"\"\n",
    "    dd = doomsday_target_year(t_year)\n",
    "\n",
    "    # days of the week, doom days for regular year, and for leap year\n",
    "    day_names = [\n",
    "        \"Sunday\",\n",
    "        \"Monday\",\n",
    "        \"Tuesday\",\n",
    "        \"Wednesday\",\n",
    "        \"Thursday\",\n",
    "        \"Friday\",\n",
    "        \"Saturday\"\n",
    "    ]\n",
    "\n",
    "    reg_doom_days = [10, 28, 21, 4, 9, 6, 11, 8, 5, 10, 7, 12]\n",
    "    leap_doom_days = [11, 29, 21, 4, 9, 6, 11, 8, 5, 10, 7, 12]\n",
    "\n",
    "    # boolean check for leap year\n",
    "    if((t_year % 4 == 0 and t_year % 100 != 0) or t_year % 400 == 0):\n",
    "        dmonth = leap_doom_days[t_month - 1]\n",
    "        dshift = abs(dmonth - t_day) % 7\n",
    "\n",
    "    else:\n",
    "        dmonth = reg_doom_days[t_month - 1]\n",
    "        dshift = abs(dmonth - t_day) % 7\n",
    "    \n",
    "    # vary how shifting day dependend where the target day is within the month\n",
    "    if t_day > dmonth:\n",
    "        numerical_dow = (dd + dshift) % 7\n",
    "\n",
    "    else:\n",
    "        numerical_dow = (dd - dshift) % 7\n",
    "\n",
    "    dow = day_names[numerical_dow]\n",
    "    \n",
    "    return(dow)\n",
    "\n",
    "\n",
    "# input date here:\n",
    "mm = int(input(\"Please enter a month in the following format (mm):\"))\n",
    "dd = int(input(\"Please enter a day in the following format (dd):\"))\n",
    "yyyy = int(input(\"Please enter a year in the following format (yyyy):\"))\n",
    "\n",
    "print(day_of_the_week(mm, dd, yyyy))"
   ]
  },
  {
   "cell_type": "markdown",
   "metadata": {
    "name": "ex1.4"
   },
   "source": [
    "__Exercise 1.4.__ How many times did Friday the 13th occur in the years 1900-1999? Does this number seem to be similar to other centuries?"
   ]
  },
  {
   "cell_type": "code",
   "execution_count": 5,
   "metadata": {},
   "outputs": [
    {
     "name": "stdout",
     "output_type": "stream",
     "text": [
      "Between 1900-1999, Friday the 13th occured a total of 172 times.\n"
     ]
    }
   ],
   "source": [
    "init_1 = 0  # initialize the date counter\n",
    "for year in range(1900, 2000):\n",
    "    for month in range(1, 13):  # loop through months 1-12 given the different dd's\n",
    "        if day_of_the_week(month, 13, year) == \"Friday\":  # calc number of days\n",
    "            init_1 += 1\n",
    "num_fridays_1 = init_1\n",
    "print(\"Between 1900-1999, Friday the 13th occured a total of\",num_fridays_1, \"times.\")\n"
   ]
  },
  {
   "cell_type": "markdown",
   "metadata": {
    "name": "ex1.5"
   },
   "source": [
    "__Exercise 1.5.__ How many times did Friday the 13th occur between the year 2000 and today?"
   ]
  },
  {
   "cell_type": "code",
   "execution_count": 6,
   "metadata": {},
   "outputs": [
    {
     "name": "stdout",
     "output_type": "stream",
     "text": [
      "Since the year 2000, Friday the 13th occured a total of 31 times.\n"
     ]
    }
   ],
   "source": [
    "import datetime\n",
    "# import current date using datetime module\n",
    "# split the month, day, year into separate variables\n",
    "date_call = datetime.date.today()\n",
    "current_month = int(str(date_call)[5:7])\n",
    "current_day = int(str(date_call)[8:])\n",
    "current_year = int(str(date_call)[:4])\n",
    "\n",
    "# print(current_month), print(current_day), print(current_year)\n",
    "\n",
    "init_2 = 0  # initialize the date counter\n",
    "# loop through initial year to current_year - 1\n",
    "for year in range(2000, current_year):\n",
    "    # loop through months 1 - current month given the different dd's\n",
    "    for month in range(1, 13):\n",
    "        if day_of_the_week(month, 13, year) == \"Friday\":  # calc number of days\n",
    "            init_2 += 1\n",
    "\n",
    "# add the months within the current year\n",
    "for month in range(1, current_month + 1):\n",
    "    if day_of_the_week(month, 13, current_year) == \"Friday\":\n",
    "        init_2 += 1\n",
    "\n",
    "num_fridays_2 = init_2\n",
    "print(\"Since the year 2000, Friday the 13th occured a total of\",num_fridays_2, \"times.\")\n"
   ]
  },
  {
   "cell_type": "markdown",
   "metadata": {
    "name": "ex2.1"
   },
   "source": [
    "## Part 2: 1978 Birthdays\n",
    "\n",
    "__Exercise 2.1.__ The file `birthdays.txt` contains the number of births in the United States for each day in 1978. Inspect the file to determine the format. Note that columns are separated by the tab character, which can be entered in Python as `\\t`. Write a function that uses iterators and list comprehensions with the string methods `split()` and `strip()` to  convert each line of data to the list format\n",
    "\n",
    "```Python\n",
    "[month, day, year, count]\n",
    "```\n",
    "The elements of this list should be integers, not strings. The function `read_birthdays` provided below will help you load the file."
   ]
  },
  {
   "cell_type": "code",
   "execution_count": 8,
   "metadata": {
    "name": "fill2"
   },
   "outputs": [
    {
     "name": "stdout",
     "output_type": "stream",
     "text": [
      "[[1, 2, 78, 7527], [1, 3, 78, 8825], [1, 4, 78, 8859], [1, 5, 78, 9043], [1, 6, 78, 9208], [1, 7, 78, 8084], [1, 8, 78, 7611], [1, 9, 78, 9172], [1, 10, 78, 9089], [1, 11, 78, 9210], [1, 12, 78, 9259], [1, 13, 78, 9138], [1, 14, 78, 8299], [1, 15, 78, 7771], [1, 16, 78, 9458], [1, 17, 78, 9339], [1, 18, 78, 9120], [1, 19, 78, 9226], [1, 20, 78, 9305], [1, 21, 78, 7954], [1, 22, 78, 7560], [1, 23, 78, 9252], [1, 24, 78, 9416], [1, 25, 78, 9090], [1, 26, 78, 9387], [1, 27, 78, 8983], [1, 28, 78, 7946], [1, 29, 78, 7527], [1, 30, 78, 9184], [1, 31, 78, 9152], [2, 1, 78, 9159], [2, 2, 78, 9218], [2, 3, 78, 9167], [2, 4, 78, 8065], [2, 5, 78, 7804], [2, 6, 78, 9225], [2, 7, 78, 9328], [2, 8, 78, 9139], [2, 9, 78, 9247], [2, 10, 78, 9527], [2, 11, 78, 8144], [2, 12, 78, 7950], [2, 13, 78, 8966], [2, 14, 78, 9859], [2, 15, 78, 9285], [2, 16, 78, 9103], [2, 17, 78, 9238], [2, 18, 78, 8167], [2, 19, 78, 7695], [2, 20, 78, 9021], [2, 21, 78, 9252], [2, 22, 78, 9335], [2, 23, 78, 9268], [2, 24, 78, 9552], [2, 25, 78, 8313], [2, 26, 78, 7881], [2, 27, 78, 9262], [2, 28, 78, 9705], [3, 1, 78, 9132], [3, 2, 78, 9304], [3, 3, 78, 9431], [3, 4, 78, 8008], [3, 5, 78, 7791], [3, 6, 78, 9294], [3, 7, 78, 9573], [3, 8, 78, 9212], [3, 9, 78, 9218], [3, 10, 78, 9583], [3, 11, 78, 8144], [3, 12, 78, 7870], [3, 13, 78, 9022], [3, 14, 78, 9525], [3, 15, 78, 9284], [3, 16, 78, 9327], [3, 17, 78, 9480], [3, 18, 78, 7965], [3, 19, 78, 7729], [3, 20, 78, 9135], [3, 21, 78, 9663], [3, 22, 78, 9307], [3, 23, 78, 9159], [3, 24, 78, 9157], [3, 25, 78, 7874], [3, 26, 78, 7589], [3, 27, 78, 9100], [3, 28, 78, 9293], [3, 29, 78, 9195], [3, 30, 78, 8902], [3, 31, 78, 9318], [4, 1, 78, 8069], [4, 2, 78, 7691], [4, 3, 78, 9114], [4, 4, 78, 9439], [4, 5, 78, 8852], [4, 6, 78, 8969], [4, 7, 78, 9077], [4, 8, 78, 7890], [4, 9, 78, 7445], [4, 10, 78, 8870], [4, 11, 78, 9023], [4, 12, 78, 8606], [4, 13, 78, 8724], [4, 14, 78, 9012], [4, 15, 78, 7527], [4, 16, 78, 7193], [4, 17, 78, 8702], [4, 18, 78, 9205], [4, 19, 78, 8720], [4, 20, 78, 8582], [4, 21, 78, 8892], [4, 22, 78, 7787], [4, 23, 78, 7304], [4, 24, 78, 9017], [4, 25, 78, 9077], [4, 26, 78, 9019], [4, 27, 78, 8839], [4, 28, 78, 9047], [4, 29, 78, 7750], [4, 30, 78, 7135], [5, 1, 78, 8900], [5, 2, 78, 9422], [5, 3, 78, 9051], [5, 4, 78, 8672], [5, 5, 78, 9101], [5, 6, 78, 7718], [5, 7, 78, 7388], [5, 8, 78, 8987], [5, 9, 78, 9307], [5, 10, 78, 9273], [5, 11, 78, 8903], [5, 12, 78, 8975], [5, 13, 78, 7762], [5, 14, 78, 7382], [5, 15, 78, 9195], [5, 16, 78, 9200], [5, 17, 78, 8913], [5, 18, 78, 9044], [5, 19, 78, 9000], [5, 20, 78, 8064], [5, 21, 78, 7570], [5, 22, 78, 9089], [5, 23, 78, 9210], [5, 24, 78, 9196], [5, 25, 78, 9180], [5, 26, 78, 9514], [5, 27, 78, 8005], [5, 28, 78, 7781], [5, 29, 78, 7780], [5, 30, 78, 9630], [5, 31, 78, 9600], [6, 1, 78, 9435], [6, 2, 78, 9303], [6, 3, 78, 7971], [6, 4, 78, 7399], [6, 5, 78, 9127], [6, 6, 78, 9606], [6, 7, 78, 9328], [6, 8, 78, 9075], [6, 9, 78, 9362], [6, 10, 78, 8040], [6, 11, 78, 7581], [6, 12, 78, 9201], [6, 13, 78, 9264], [6, 14, 78, 9216], [6, 15, 78, 9175], [6, 16, 78, 9350], [6, 17, 78, 8233], [6, 18, 78, 7777], [6, 19, 78, 9543], [6, 20, 78, 9672], [6, 21, 78, 9266], [6, 22, 78, 9405], [6, 23, 78, 9598], [6, 24, 78, 8122], [6, 25, 78, 8091], [6, 26, 78, 9348], [6, 27, 78, 9857], [6, 28, 78, 9701], [6, 29, 78, 9630], [6, 30, 78, 10080], [7, 1, 78, 8209], [7, 2, 78, 7976], [7, 3, 78, 9284], [7, 4, 78, 8433], [7, 5, 78, 9675], [7, 6, 78, 10184], [7, 7, 78, 10241], [7, 8, 78, 8773], [7, 9, 78, 8102], [7, 10, 78, 9877], [7, 11, 78, 9852], [7, 12, 78, 9705], [7, 13, 78, 9984], [7, 14, 78, 10438], [7, 15, 78, 8859], [7, 16, 78, 8416], [7, 17, 78, 10026], [7, 18, 78, 10357], [7, 19, 78, 10015], [7, 20, 78, 10386], [7, 21, 78, 10332], [7, 22, 78, 9062], [7, 23, 78, 8563], [7, 24, 78, 9960], [7, 25, 78, 10349], [7, 26, 78, 10091], [7, 27, 78, 10192], [7, 28, 78, 10307], [7, 29, 78, 8677], [7, 30, 78, 8486], [7, 31, 78, 9890], [8, 1, 78, 10145], [8, 2, 78, 9824], [8, 3, 78, 10128], [8, 4, 78, 10051], [8, 5, 78, 8738], [8, 6, 78, 8442], [8, 7, 78, 10206], [8, 8, 78, 10442], [8, 9, 78, 10142], [8, 10, 78, 10284], [8, 11, 78, 10162], [8, 12, 78, 8951], [8, 13, 78, 8532], [8, 14, 78, 10127], [8, 15, 78, 10502], [8, 16, 78, 10053], [8, 17, 78, 10377], [8, 18, 78, 10355], [8, 19, 78, 8904], [8, 20, 78, 8477], [8, 21, 78, 9967], [8, 22, 78, 10229], [8, 23, 78, 9900], [8, 24, 78, 10152], [8, 25, 78, 10173], [8, 26, 78, 8782], [8, 27, 78, 8453], [8, 28, 78, 9998], [8, 29, 78, 10387], [8, 30, 78, 10063], [8, 31, 78, 9849], [9, 1, 78, 10114], [9, 2, 78, 8580], [9, 3, 78, 8355], [9, 4, 78, 8481], [9, 5, 78, 10023], [9, 6, 78, 10703], [9, 7, 78, 10292], [9, 8, 78, 10371], [9, 9, 78, 9023], [9, 10, 78, 8630], [9, 11, 78, 10154], [9, 12, 78, 10425], [9, 13, 78, 10149], [9, 14, 78, 10265], [9, 15, 78, 10265], [9, 16, 78, 9170], [9, 17, 78, 8711], [9, 18, 78, 10304], [9, 19, 78, 10711], [9, 20, 78, 10488], [9, 21, 78, 10499], [9, 22, 78, 10349], [9, 23, 78, 8735], [9, 24, 78, 8647], [9, 25, 78, 10414], [9, 26, 78, 10498], [9, 27, 78, 10344], [9, 28, 78, 10175], [9, 29, 78, 10368], [9, 30, 78, 8648], [10, 1, 78, 8686], [10, 2, 78, 9927], [10, 3, 78, 10378], [10, 4, 78, 9928], [10, 5, 78, 9949], [10, 6, 78, 10052], [10, 7, 78, 8605], [10, 8, 78, 8377], [10, 9, 78, 9765], [10, 10, 78, 10351], [10, 11, 78, 9873], [10, 12, 78, 9824], [10, 13, 78, 9755], [10, 14, 78, 8554], [10, 15, 78, 7873], [10, 16, 78, 9531], [10, 17, 78, 9938], [10, 18, 78, 9388], [10, 19, 78, 9502], [10, 20, 78, 9625], [10, 21, 78, 8411], [10, 22, 78, 7936], [10, 23, 78, 9425], [10, 24, 78, 9576], [10, 25, 78, 9328], [10, 26, 78, 9501], [10, 27, 78, 9537], [10, 28, 78, 8415], [10, 29, 78, 8155], [10, 30, 78, 9457], [10, 31, 78, 9333], [11, 1, 78, 9321], [11, 2, 78, 9245], [11, 3, 78, 9774], [11, 4, 78, 8246], [11, 5, 78, 8011], [11, 6, 78, 9507], [11, 7, 78, 9769], [11, 8, 78, 9501], [11, 9, 78, 9609], [11, 10, 78, 9652], [11, 11, 78, 8352], [11, 12, 78, 7967], [11, 13, 78, 9606], [11, 14, 78, 10014], [11, 15, 78, 9536], [11, 16, 78, 9568], [11, 17, 78, 9835], [11, 18, 78, 8432], [11, 19, 78, 7868], [11, 20, 78, 9592], [11, 21, 78, 9950], [11, 22, 78, 9548], [11, 23, 78, 7915], [11, 24, 78, 9037], [11, 25, 78, 8275], [11, 26, 78, 8068], [11, 27, 78, 9825], [11, 28, 78, 9814], [11, 29, 78, 9438], [11, 30, 78, 9396], [12, 1, 78, 9592], [12, 2, 78, 8528], [12, 3, 78, 8196], [12, 4, 78, 9767], [12, 5, 78, 9881], [12, 6, 78, 9402], [12, 7, 78, 9480], [12, 8, 78, 9398], [12, 9, 78, 8335], [12, 10, 78, 8093], [12, 11, 78, 9686], [12, 12, 78, 10063], [12, 13, 78, 9509], [12, 14, 78, 9524], [12, 15, 78, 9951], [12, 16, 78, 8507], [12, 17, 78, 8172], [12, 18, 78, 10196], [12, 19, 78, 10605], [12, 20, 78, 9998], [12, 21, 78, 9398], [12, 22, 78, 9008], [12, 23, 78, 7939], [12, 24, 78, 7964], [12, 25, 78, 7846], [12, 26, 78, 8902], [12, 27, 78, 9907], [12, 28, 78, 10177], [12, 29, 78, 10401], [12, 30, 78, 8474], [12, 31, 78, 8028]]\n"
     ]
    }
   ],
   "source": [
    "def read_birthdays(file_path):\n",
    "    \"\"\"Read the contents of the birthdays file into a string.\n",
    "\n",
    "    Arguments:\n",
    "        file_path (string): The path to the birthdays file.\n",
    "\n",
    "    Returns:\n",
    "        string: The contents of the birthdays file.\n",
    "    \"\"\"\n",
    "    # open file and read in as data_file\n",
    "    with open(file_path) as data_file:\n",
    "        text_file = data_file.readlines()  # read the file into a list\n",
    "        num_lines = sum(1 for line in text_file)  # count the num of lines\n",
    "\n",
    "        bday_file = []  # initialize empty list\n",
    "\n",
    "        # create a list of strings that strips and replaces with \"\\n\"\n",
    "        for bday in range(1, num_lines):\n",
    "            text_file[bday] = text_file[bday].strip()\n",
    "            text_file[bday] = text_file[bday].replace(\"\\t\", \"/\")\n",
    "            text_file[bday] = text_file[bday].replace(\"/\", \",\")\n",
    "            bday_file.append(text_file[bday])\n",
    "\n",
    "        # initialize empty list to append lists to\n",
    "        nbday_file = []\n",
    "\n",
    "        # append the lists to \"nbday_file\"\n",
    "        for elem in bday_file:\n",
    "            nbday_file.append(elem.split(\",\"))\n",
    "\n",
    "        # convert to integers\n",
    "        nbday_file = [[int(elem) for elem in indx] for indx in nbday_file]\n",
    "\n",
    "    return nbday_file\n",
    "\n",
    "\n",
    "nbday_file = read_birthdays(\"/Users/tmm/Desktop/STA141B/hw1/final_product/birthdays.txt\")\n",
    "print(nbday_file)"
   ]
  },
  {
   "cell_type": "markdown",
   "metadata": {
    "name": "ex2.2"
   },
   "source": [
    "__Exercise 2.2.__ Which month had the most births in 1978? Which day of the week had the most births? Which day of the week had the fewest? What conclusions can you draw? You may find the `Counter` class in the `collections` module useful."
   ]
  },
  {
   "cell_type": "code",
   "execution_count": 7,
   "metadata": {},
   "outputs": [
    {
     "name": "stdout",
     "output_type": "stream",
     "text": [
      "The month with the greatest number of births is: August\n",
      "Most births: Tuesday \n",
      "Least births: Sunday\n"
     ]
    }
   ],
   "source": [
    "the_list = nbday_file.copy()\n",
    "\n",
    "\n",
    "def most_births(the_list):\n",
    "    \"\"\"\n",
    "    Returns the month with the greatest number of birthdays in the\n",
    "    year 1978\n",
    "    \"\"\"\n",
    "\n",
    "    # initialize the dict which will hold the count for bdays in each month\n",
    "    dic_1 = {}\n",
    "\n",
    "    # define dictionary with names of months to point to in the end\n",
    "    m_dic = {\n",
    "        1: \"January\",\n",
    "        2: \"February\",\n",
    "        3: \"March\",\n",
    "        4: \"April\",\n",
    "        5: \"May\",\n",
    "        6: \"June\",\n",
    "        7: \"July\",\n",
    "        8: \"August\",\n",
    "        9: \"September\",\n",
    "        10: \"October\",\n",
    "        11: \"November\",\n",
    "        12: \"December\"\n",
    "    }\n",
    "\n",
    "    # loop through the birthdays and sum the counts for matching month\n",
    "    # append to a list and then update the initial dict \"dic_1\"\n",
    "    for bday in the_list:\n",
    "        for month in range(1, 13):\n",
    "            if month == bday[0]:\n",
    "                dic_1.setdefault(month, []).append(bday[3])\n",
    "\n",
    "    # sum the counts\n",
    "    new_dic_1 = {key: sum(occurrences) for key, occurrences in dic_1.items()}\n",
    "    months = new_dic_1\n",
    "    high_month = max(months, key=lambda key: months[key])\n",
    "    high_month = m_dic[high_month]\n",
    "\n",
    "    print(\"The month with the greatest number of births is:\", high_month)\n",
    "\n",
    "\n",
    "most_births(the_list)\n",
    "\n",
    "\n",
    "def day_spectrum(the_list):\n",
    "    \"\"\"\n",
    "    Returns the day of the week with the greatest number of birthdays in the\n",
    "    year 1978.\n",
    "    \"\"\"\n",
    "\n",
    "    # initialize the dict which will hold the count for bdays in each week\n",
    "    dic_2 = {}\n",
    "\n",
    "    # define a list with the days of the week as reference\n",
    "    dow = [\n",
    "        \"Sunday\",\n",
    "        \"Monday\",\n",
    "        \"Tuesday\",\n",
    "        \"Wednesday\",\n",
    "        \"Thursday\",\n",
    "        \"Friday\",\n",
    "        \"Saturday\"\n",
    "    ]\n",
    "\n",
    "    # loop through the birthdays and sum the counts for matching day\n",
    "    # append to a list and then update the initial dict \"dic_2\"\n",
    "    for bday in the_list:\n",
    "        for day in dow:\n",
    "            if day_of_the_week(bday[0], bday[1], 1978) == day:\n",
    "                dic_2.setdefault(day, []).append(bday[3])\n",
    "\n",
    "    # sum the counts\n",
    "    new_dic_2 = {key: sum(occurrences) for key, occurrences in dic_2.items()}\n",
    "    day = new_dic_2\n",
    "    high_day = max(day, key=lambda key: day[key])  # max day\n",
    "    low_day = min(day, key=lambda key: day[key])  # min day\n",
    "    \n",
    "    print(\"Most births:\", high_day, \"\\nLeast births:\", low_day)\n",
    "\n",
    "day_spectrum(the_list)\n",
    "\n",
    "\n",
    "\n"
   ]
  },
  {
   "cell_type": "markdown",
   "metadata": {},
   "source": [
    "__Exercise 2.3.__ What would be an effective way to present the information in exercise 2.2? You don't need to write any code for this exercise, just discuss what you would do."
   ]
  },
  {
   "cell_type": "markdown",
   "metadata": {},
   "source": [
    "An effective way to present the information in exercise 2.2 would be to implement a data visualization such as a \"bar graph\". This would provide a successful representation of the output due to the closeness in counts for months and days of the week. Using a bar graph allows one to adjust the scale of the axis' so that the differences in values are more apparent. "
   ]
  }
 ],
 "metadata": {
  "anaconda-cloud": {},
  "kernelspec": {
   "display_name": "Python 3",
   "language": "python",
   "name": "python3"
  },
  "language_info": {
   "codemirror_mode": {
    "name": "ipython",
    "version": 3
   },
   "file_extension": ".py",
   "mimetype": "text/x-python",
   "name": "python",
   "nbconvert_exporter": "python",
   "pygments_lexer": "ipython3",
   "version": "3.6.4"
  }
 },
 "nbformat": 4,
 "nbformat_minor": 2
}
